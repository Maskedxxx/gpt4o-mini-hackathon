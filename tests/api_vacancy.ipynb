{
 "cells": [
  {
   "cell_type": "code",
   "execution_count": 1,
   "metadata": {},
   "outputs": [],
   "source": [
    "import os\n",
    "import sys\n",
    "\n",
    "os.chdir('/Users/mask/Documents/Проеты_2025/gpt_4_mini_hackaton/app_talebot_v3')\n",
    "# Получаем текущую рабочую директорию\n",
    "current_dir = os.getcwd()\n",
    "\n",
    "# Добавляем родительскую директорию текущей директории в путь Python\n",
    "parent_dir = os.path.dirname(current_dir)\n",
    "sys.path.insert(0, parent_dir)"
   ]
  },
  {
   "cell_type": "code",
   "execution_count": 2,
   "metadata": {},
   "outputs": [],
   "source": [
    "from services.hh_api import HeadHunterAPI\n",
    "from services.entity_extractor import EntityExtractor\n",
    "extract = EntityExtractor()\n",
    "import asyncio\n",
    "from pprint import pprint  # Для красивого вывода данных\n",
    "\n",
    "# Создаем экземпляр API клиента\n",
    "hh_client = HeadHunterAPI(\n",
    "    client_id='J58PIDNM3UQCNE85UVRMSSIO7F8HUNGD7KPNR9004IK3LIKE6GNBAPDBIDHMOUH1',\n",
    "    client_secret='IGBU6EJV14587HUCAAJRRC0B63SNSUDL7J2PR39RR438SPECU64LAQ15EVNEJLL2',\n",
    "    redirect_uri='http://localhost:8000/callback'\n",
    ")"
   ]
  },
  {
   "cell_type": "code",
   "execution_count": 3,
   "metadata": {},
   "outputs": [],
   "source": [
    "async def test_vacancy_api():\n",
    "    try:\n",
    "        # Авторизация\n",
    "        auth_url = hh_client.get_auth_url()\n",
    "        print(f\"Пройдите по ссылке для авторизации: {auth_url}\")\n",
    "        code = input(\"Введите полученный код: \")\n",
    "        await hh_client.exchange_code_for_tokens(code)\n",
    "        \n",
    "        # Получаем данные вакансии\n",
    "        vacancy_id = '112058113'  # Например: \"12345678\"\n",
    "        response = await hh_client.make_api_request(f'/vacancies/{vacancy_id}')\n",
    "        \n",
    "        # Создаем объект VacancyInfo из полученных данных\n",
    "        vacancy_info = extract.extract_vacancy_info(response)\n",
    "        \n",
    "        print(\"*\"*80)\n",
    "        print(\"*\"*80)\n",
    "        print(vacancy_info.model_dump_json(indent=2))\n",
    "        print(\"*\"*80)\n",
    "        print(\"*\"*80)\n",
    "\n",
    "        # # Вывод данных в человекочитаемом формате (если нужен)\n",
    "        # if vacancy_info:\n",
    "        #     print(\"\\n=== Данные вакансии ===\")\n",
    "        #     print(\"\\nОписание вакансии:\")\n",
    "        #     print(vacancy_info.description)\n",
    "            \n",
    "        #     print(\"\\nКлючевые навыки:\")\n",
    "        #     for skill in vacancy_info.key_skills:\n",
    "        #         print(f\"- {skill}\")\n",
    "            \n",
    "        #     if vacancy_info.employment_form:\n",
    "        #         print(f\"\\nФорма занятости ID: {vacancy_info.employment_form.id}\")\n",
    "            \n",
    "        #     if vacancy_info.experience:\n",
    "        #         print(f\"Требуемый опыт ID: {vacancy_info.experience.id}\")\n",
    "            \n",
    "        #     if vacancy_info.schedule:\n",
    "        #         print(f\"График работы ID: {vacancy_info.schedule.id}\")\n",
    "            \n",
    "        #     if vacancy_info.employment:\n",
    "        #         print(f\"Тип занятости ID: {vacancy_info.employment.id}\")\n",
    "        # else:\n",
    "        #     print(\"Не удалось получить данные вакансии\")\n",
    "            \n",
    "    except Exception as e:\n",
    "        print(f\"Произошла ошибка: {e}\")\n",
    "        import traceback\n",
    "        print(traceback.format_exc())"
   ]
  },
  {
   "cell_type": "code",
   "execution_count": 4,
   "metadata": {},
   "outputs": [
    {
     "name": "stdout",
     "output_type": "stream",
     "text": [
      "2025-01-27 17:31:23 - services.hh_api - INFO - Сгенерирован URL авторизации\n",
      "Пройдите по ссылке для авторизации: https://hh.ru/oauth/authorize?response_type=code&client_id=J58PIDNM3UQCNE85UVRMSSIO7F8HUNGD7KPNR9004IK3LIKE6GNBAPDBIDHMOUH1&redirect_uri=http://localhost:8000/callback\n",
      "2025-01-27 17:31:42 - services.hh_api - INFO - Отправка запроса на получение токенов. URL: https://hh.ru/oauth/token\n",
      "2025-01-27 17:31:42 - services.hh_api - INFO - Параметры запроса: {'grant_type': 'authorization_code', 'client_id': 'J58PIDNM3UQCNE85UVRMSSIO7F8HUNGD7KPNR9004IK3LIKE6GNBAPDBIDHMOUH1', 'client_secret': 'IGBU6EJV14587HUCAAJRRC0B63SNSUDL7J2PR39RR438SPECU64LAQ15EVNEJLL2', 'code': 'IPP1TRI39U4LGLSGUQ57BLP8AQ01OPI72HC32T5LM96PPMMKVF3F53NFN4KLMNDK', 'redirect_uri': 'http://localhost:8000/callback'}\n",
      "2025-01-27 17:31:42 - services.hh_api - INFO - Статус ответа: 200\n",
      "2025-01-27 17:31:42 - services.hh_api - INFO - Тело ответа: {\"access_token\":\"USERKGA7PSKAHA86NA25O8DLGFI2NS2E6PM1LC6EE4CCK9JFHQBMVT3BA57B5JIJ\",\"token_type\":\"bearer\",\"refresh_token\":\"USERIRRQTVJTEICAC4F5PK2D4UU7I4FKT027VN417AF2KGHKAH044DI2HOEH6MA8\",\"expires_in\":1209599}\n",
      "2025-01-27 17:31:42 - services.hh_api - INFO - Успешно получены токены доступа\n",
      "2025-01-27 17:31:44 - services.hh_api - INFO - Статус ответа: 200\n",
      "2025-01-27 17:31:44 - services.hh_api - INFO - Текст ответа: https://api.hh.ru/vacancies/112058113\n",
      "********************************************************************************\n",
      "********************************************************************************\n",
      "{\n",
      "  \"description\": \"Мы создаем и применяем AI-технологии для развития финансовой экосистемы Т-Банк, внедряем машинное обучение в продукты и внутренние процессы компании, делаем решения качественнее, безопаснее и удобнее для пользователей, вкладываемся в долгосрочные исследования. Сейчас мы в поисках ML-инженеров, которые привнесут экспертизу и свой вклад в развитие Центра технологий искусственного интеллекта. Наши технологии  Диалоговые системы. Обучаем финансового ассистента поддерживать разговор и отвечать на запросы пользователей в чате с поддержкой Компьютерное зрение. Делаем безопасную авторизацию по лицу, оживляем фотографии для реалистичной анимации, распознаем документы и многое другое Рекомендательные системы. Учимся предугадывать желания пользователей, чтобы предлагать им именно то, что нужно Речевые технологии. Автоматизируем голосовое общение между бизнесом и клиентами ML-антифрод. С помощью алгоритмов оберегаем пользователей от мошенников, оперативно замечая подозрительные действия в личном кабинете Предиктивные технологии. Прогнозируем будущее клиентов, чтобы помогать им контролировать финансы.  Почему Т-Банк?  Делаем жизнь миллионов людей лучше — ассистент Олег, социальная сеть Пульс, персонализированная lifestyle экосистема, предиктивные интерфейсы для finance management Даем возможность как закинуть наработки в прод на миллионы пользователей, так и делать исследования в своей области Развиваем и делимся опытом по всем областям ML: CV, NLP, RecSys, Speech и Time Series. Проводим внутреннием семинары, обсуждаем последние новости AI Есть выстроенные процессы и инфраструктура Т-Банк, но с отсутствием бюрократии больших организаций Фокус внутри компании на разработке в области искусственного интеллекта Есть лаборатория на Физтехе, с которой можно и нужно делать коллаборации Мало легаси и большой impact каждого разработчика  Обязанности  Изучение научных статей, генерирование гипотез, постановка экспериментов на их основе и донесение результатов до команды Улучшение качества моделей в различных сценариях Ускорение работы моделей с применением современных методов оптимизации и архитектур Написание воспроизводимого кода, оформление экспериментов в воспроизводимые пайплайны, включающие разметку и обработку данных, обучение моделей и валидацию системы в целом  Требования  Опыт разработки моделей машинного обучения с использованием современных DL фреймворков (Tensorflow, Pytorch, Keras, etc) и применения их в продакшене Глубокое понимание принципов работы современных алгоритмов машинного обучения Высокий уровень знания Python Умение декомпозировать задачу в переиспользуемые и тестируемые библиотеки и компоненты Хорошая теоретическая подготовка в областях математики, алгоритмов и структур данных, прикладной статистики Умение самостоятельно изучать научные статьи на английском языке и желание ставить эксперименты на их основе Практические знания Linux, Git, Bash, Docker  Мы предлагаем  Оплату участия в топ AI конференциях 2-3 раза в год Работу в офисе. График работы — гибридный  Платформу обучения и развития Т-Банк Апгрейд. Курсы, тренинги, вебинары и базы знаний. Поддержка менторов и наставников, помощь в поиске точек роста и карьерном развитии  Заботу о здоровье. Оформим полис ДМС со стоматологией и страховку от несчастных случаев. Предложим льготное страхование вашим близким Частичную компенсацию затрат на спорт Компенсацию обедов. А если захотите перекусить, есть кухня с чаем, кофе и фруктами Достойную зарплату — обсудим ее на собеседовании Возможность работы в аккредитованной ИТ-компании\",\n",
      "  \"key_skills\": [\n",
      "    \"Python\",\n",
      "    \"Git\",\n",
      "    \"Linux\",\n",
      "    \"Bash\"\n",
      "  ],\n",
      "  \"employment_form\": {\n",
      "    \"id\": \"FULL\"\n",
      "  },\n",
      "  \"experience\": {\n",
      "    \"id\": \"between3And6\"\n",
      "  },\n",
      "  \"schedule\": {\n",
      "    \"id\": \"fullDay\"\n",
      "  },\n",
      "  \"employment\": {\n",
      "    \"id\": \"full\"\n",
      "  }\n",
      "}\n",
      "********************************************************************************\n",
      "********************************************************************************\n"
     ]
    }
   ],
   "source": [
    "await test_vacancy_api()\n"
   ]
  },
  {
   "cell_type": "code",
   "execution_count": null,
   "metadata": {},
   "outputs": [],
   "source": []
  },
  {
   "cell_type": "code",
   "execution_count": null,
   "metadata": {},
   "outputs": [],
   "source": []
  }
 ],
 "metadata": {
  "kernelspec": {
   "display_name": "Python (semantic_venv)",
   "language": "python",
   "name": "semantic_venv"
  },
  "language_info": {
   "codemirror_mode": {
    "name": "ipython",
    "version": 3
   },
   "file_extension": ".py",
   "mimetype": "text/x-python",
   "name": "python",
   "nbconvert_exporter": "python",
   "pygments_lexer": "ipython3",
   "version": "3.12.8"
  }
 },
 "nbformat": 4,
 "nbformat_minor": 2
}
