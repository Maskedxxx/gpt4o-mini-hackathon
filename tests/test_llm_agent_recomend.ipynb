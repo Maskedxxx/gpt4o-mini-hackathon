{
 "cells": [
  {
   "cell_type": "code",
   "execution_count": 1,
   "metadata": {},
   "outputs": [],
   "source": [
    "import os\n",
    "import sys\n",
    "\n",
    "os.chdir('/Users/mask/Documents/Проеты_2025/gpt_4_mini_hackaton/app_talebot_v3')\n",
    "# Получаем текущую рабочую директорию\n",
    "current_dir = os.getcwd()\n",
    "\n",
    "# Добавляем родительскую директорию текущей директории в путь Python\n",
    "parent_dir = os.path.dirname(current_dir)\n",
    "sys.path.insert(0, parent_dir)"
   ]
  },
  {
   "cell_type": "code",
   "execution_count": 2,
   "metadata": {},
   "outputs": [],
   "source": [
    "from tests.llm_agent_recomendation import LLMService\n",
    "from config.config import load_config, Config\n",
    "\n",
    "# Инициализация\n",
    "config = load_config()\n",
    "llm_service = LLMService(config=config)"
   ]
  },
  {
   "cell_type": "code",
   "execution_count": 3,
   "metadata": {},
   "outputs": [],
   "source": [
    "gap_data = {\n",
    "    \"matched_skills\": [\n",
    "    \"Python\",\n",
    "    \"AI\",\n",
    "    \"LLM\",\n",
    "    \"prompt engineering\"\n",
    "  ],\n",
    "  \"missing_skills\": [\n",
    "    \"глубокое понимание методов машинного обучения и обработки данных\",\n",
    "    \"практический опыт в интеграции AI-моделей в корпоративные системы\",\n",
    "    \"знание инструментов и технологий для деплоя и мониторинга моделей (MLOps)\",\n",
    "    \"умение эффективно приоритизировать задачи и управлять проектами в условиях многозадачности\",\n",
    "    \"отличные коммуникативные и лидерские навыки\",\n",
    "    \"опыт работы с крупными языковыми моделями (LLM) и знание методов промпт-инжиниринга\",\n",
    "    \"понимание принципов Agile-разработки (Scrum, Kanban)\"\n",
    "  ],\n",
    "  \"irrelevant_blocks\": [\n",
    "    \"Работа с научными работами: опыт в редактировании и написании курсовых и дипломных проектов, (12 закрытых заказов).\",\n",
    "    \"Контент-менеджер\"\n",
    "  ],\n",
    "  \"critical_mismatches\": [\n",
    "    \"требуемый опыт работы с Data Science и AI от 5 лет, у кандидата менее 5 лет\"\n",
    "  ]\n",
    "}"
   ]
  },
  {
   "cell_type": "code",
   "execution_count": 4,
   "metadata": {},
   "outputs": [],
   "source": [
    "from models.gap_analysis import GapAnalysisResult\n",
    "\n",
    "gap_result = GapAnalysisResult(**gap_data)"
   ]
  },
  {
   "cell_type": "code",
   "execution_count": 5,
   "metadata": {},
   "outputs": [
    {
     "name": "stdout",
     "output_type": "stream",
     "text": [
      "2025-01-22 12:32:44 - tests.llm_agent_recomendation - INFO - Рекомендации успешно сгенерированы.\n",
      "to_highlight=['Опыт работы с Python и проектами в области AI', 'Знания в области работы с LLM и промпт-инжинирингом', 'Примеры успешного применения AI в предыдущих проектах'] to_remove=['Работа с научными работами: опыт в редактировании и написании курсовых и дипломных проектов, (12 закрытых заказов).', 'Контент-менеджер'] to_rewrite=['Секция опыта работы должна акцентировать внимание на результатах применения AI и Data Science, с упоминанием конкретных проектов и достижений.', 'Добавить опыт работы в условиях Agile и обоснование управления проектами.'] general_advice=['Убедитесь, что резюме структурировано и легко читается, используйте четкие заголовки и подзаголовки.', 'Старайтесь избегать длинных текстов; используйте краткие и четкие пункты.', 'Подумайте о форме CV в контексте конкретной вакансии, акцентируйте внимание на требуемых навыках и опыте.']\n",
      "{\n",
      "  \"to_highlight\": [\n",
      "    \"Опыт работы с Python и проектами в области AI\",\n",
      "    \"Знания в области работы с LLM и промпт-инжинирингом\",\n",
      "    \"Примеры успешного применения AI в предыдущих проектах\"\n",
      "  ],\n",
      "  \"to_remove\": [\n",
      "    \"Работа с научными работами: опыт в редактировании и написании курсовых и дипломных проектов, (12 закрытых заказов).\",\n",
      "    \"Контент-менеджер\"\n",
      "  ],\n",
      "  \"to_rewrite\": [\n",
      "    \"Секция опыта работы должна акцентировать внимание на результатах применения AI и Data Science, с упоминанием конкретных проектов и достижений.\",\n",
      "    \"Добавить опыт работы в условиях Agile и обоснование управления проектами.\"\n",
      "  ],\n",
      "  \"general_advice\": [\n",
      "    \"Убедитесь, что резюме структурировано и легко читается, используйте четкие заголовки и подзаголовки.\",\n",
      "    \"Старайтесь избегать длинных текстов; используйте краткие и четкие пункты.\",\n",
      "    \"Подумайте о форме CV в контексте конкретной вакансии, акцентируйте внимание на требуемых навыках и опыте.\"\n",
      "  ]\n",
      "}\n"
     ]
    }
   ],
   "source": [
    "recs = llm_service.make_recommendations(\n",
    "    gap_result=gap_result,\n",
    ")\n",
    "\n",
    "print(recs)\n",
    "# Или если вам нужен \"сырой\" JSON:\n",
    "print(recs.model_dump_json(indent=2))"
   ]
  },
  {
   "cell_type": "code",
   "execution_count": null,
   "metadata": {},
   "outputs": [],
   "source": []
  },
  {
   "cell_type": "code",
   "execution_count": null,
   "metadata": {},
   "outputs": [],
   "source": []
  }
 ],
 "metadata": {
  "kernelspec": {
   "display_name": "Python (semantic_venv)",
   "language": "python",
   "name": "semantic_venv"
  },
  "language_info": {
   "codemirror_mode": {
    "name": "ipython",
    "version": 3
   },
   "file_extension": ".py",
   "mimetype": "text/x-python",
   "name": "python",
   "nbconvert_exporter": "python",
   "pygments_lexer": "ipython3",
   "version": "3.12.8"
  }
 },
 "nbformat": 4,
 "nbformat_minor": 2
}
